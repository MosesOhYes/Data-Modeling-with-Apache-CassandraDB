{
 "cells": [
  {
   "cell_type": "markdown",
   "metadata": {},
   "source": [
    "# Part I. ETL Pipeline for Pre-Processing the Files"
   ]
  },
  {
   "cell_type": "markdown",
   "metadata": {},
   "source": [
    "## PLEASE RUN THE FOLLOWING CODE FOR PRE-PROCESSING THE FILES"
   ]
  },
  {
   "cell_type": "markdown",
   "metadata": {},
   "source": [
    "#### Import Python packages "
   ]
  },
  {
   "cell_type": "code",
   "execution_count": 99,
   "metadata": {},
   "outputs": [],
   "source": [
    "# Import Python packages \n",
    "import pandas as pd\n",
    "import cassandra\n",
    "import re\n",
    "import os\n",
    "import glob\n",
    "import numpy as np\n",
    "import json\n",
    "import csv"
   ]
  },
  {
   "cell_type": "markdown",
   "metadata": {},
   "source": [
    "#### Creating list of filepaths to process original event csv data files"
   ]
  },
  {
   "cell_type": "code",
   "execution_count": 100,
   "metadata": {},
   "outputs": [
    {
     "name": "stdout",
     "output_type": "stream",
     "text": [
      "/home/workspace\n"
     ]
    }
   ],
   "source": [
    "# checking your current working directory\n",
    "print(os.getcwd())\n",
    "\n",
    "# Get your current folder and subfolder event data\n",
    "filepath = os.getcwd() + '/event_data'\n",
    "\n",
    "# Create a for loop to create a list of files and collect each filepath\n",
    "for root, dirs, files in os.walk(filepath):\n",
    "    \n",
    "# join the file path and roots with the subdirectories using glob\n",
    "    file_path_list = glob.glob(os.path.join(root,'*'))\n",
    "    #print(file_path_list)"
   ]
  },
  {
   "cell_type": "markdown",
   "metadata": {},
   "source": [
    "#### Processing the files to create the data file csv that will be used for Apache Casssandra tables"
   ]
  },
  {
   "cell_type": "code",
   "execution_count": 101,
   "metadata": {},
   "outputs": [],
   "source": [
    "# initiating an empty list of rows that will be generated from each file\n",
    "full_data_rows_list = [] \n",
    "    \n",
    "# for every filepath in the file path list \n",
    "for f in file_path_list:\n",
    "\n",
    "# reading csv file \n",
    "    with open(f, 'r', encoding = 'utf8', newline='') as csvfile: \n",
    "        # creating a csv reader object \n",
    "        csvreader = csv.reader(csvfile) \n",
    "        next(csvreader)\n",
    "        \n",
    " # extracting each data row one by one and append it        \n",
    "        for line in csvreader:\n",
    "            #print(line)\n",
    "            full_data_rows_list.append(line) \n",
    "            \n",
    "# uncomment the code below if you would like to get total number of rows \n",
    "#print(len(full_data_rows_list))\n",
    "# uncomment the code below if you would like to check to see what the list of event data rows will look like\n",
    "#print(full_data_rows_list)\n",
    "\n",
    "# creating a smaller event data csv file called event_datafile_full csv that will be used to insert data into the \\\n",
    "# Apache Cassandra tables\n",
    "csv.register_dialect('myDialect', quoting=csv.QUOTE_ALL, skipinitialspace=True)\n",
    "\n",
    "with open('event_datafile_new.csv', 'w', encoding = 'utf8', newline='') as f:\n",
    "    writer = csv.writer(f, dialect='myDialect')\n",
    "    writer.writerow(['artist','firstName','gender','itemInSession','lastName','length',\\\n",
    "                'level','location','sessionId','song','userId'])\n",
    "    for row in full_data_rows_list:\n",
    "        if (row[0] == ''):\n",
    "            continue\n",
    "        writer.writerow((row[0], row[2], row[3], row[4], row[5], row[6], row[7], row[8], row[12], row[13], row[16]))\n"
   ]
  },
  {
   "cell_type": "code",
   "execution_count": 102,
   "metadata": {},
   "outputs": [
    {
     "name": "stdout",
     "output_type": "stream",
     "text": [
      "6821\n"
     ]
    }
   ],
   "source": [
    "# check the number of rows in your csv file\n",
    "with open('event_datafile_new.csv', 'r', encoding = 'utf8') as f:\n",
    "    print(sum(1 for line in f))"
   ]
  },
  {
   "cell_type": "markdown",
   "metadata": {},
   "source": [
    "# Part II. Complete the Apache Cassandra coding portion of your project. \n",
    "\n",
    "## Now you are ready to work with the CSV file titled <font color=red>event_datafile_new.csv</font>, located within the Workspace directory.  The event_datafile_new.csv contains the following columns: \n",
    "- artist \n",
    "- firstName of user\n",
    "- gender of user\n",
    "- item number in session\n",
    "- last name of user\n",
    "- length of the song\n",
    "- level (paid or free song)\n",
    "- location of the user\n",
    "- sessionId\n",
    "- song title\n",
    "- userId\n",
    "\n",
    "The image below is a screenshot of what the denormalized data should appear like in the <font color=red>**event_datafile_new.csv**</font> after the code above is run:<br>\n",
    "\n",
    "<img src=\"images/image_event_datafile_new.jpg\">"
   ]
  },
  {
   "cell_type": "markdown",
   "metadata": {},
   "source": [
    "## Begin writing your Apache Cassandra code in the cells below"
   ]
  },
  {
   "cell_type": "markdown",
   "metadata": {},
   "source": [
    "#### Creating a Cluster"
   ]
  },
  {
   "cell_type": "code",
   "execution_count": 103,
   "metadata": {},
   "outputs": [],
   "source": [
    "# This should make a connection to a Cassandra instance your local machine \n",
    "# (127.0.0.1)\n",
    "\n",
    "from cassandra.cluster import Cluster\n",
    "cluster = Cluster()\n",
    "\n",
    "# To establish connection and begin executing queries, need a session\n",
    "session = cluster.connect()"
   ]
  },
  {
   "cell_type": "markdown",
   "metadata": {},
   "source": [
    "#### Create Keyspace"
   ]
  },
  {
   "cell_type": "code",
   "execution_count": 104,
   "metadata": {},
   "outputs": [],
   "source": [
    "try:\n",
    "    session.execute(\"\"\"\n",
    "    CREATE KEYSPACE IF NOT EXISTS udacity \n",
    "    WITH REPLICATION = \n",
    "    { 'class' : 'SimpleStrategy', 'replication_factor' : 1 }\"\"\"\n",
    ")\n",
    "\n",
    "except Exception as e:\n",
    "    print(e)"
   ]
  },
  {
   "cell_type": "markdown",
   "metadata": {},
   "source": [
    "#### Set Keyspace"
   ]
  },
  {
   "cell_type": "code",
   "execution_count": 105,
   "metadata": {},
   "outputs": [],
   "source": [
    "try:\n",
    "    session.set_keyspace('udacity')\n",
    "except Exception as e:\n",
    "    print(e)\n"
   ]
  },
  {
   "cell_type": "markdown",
   "metadata": {},
   "source": [
    "### Now we need to create tables to run the following queries. Remember, with Apache Cassandra you model the database tables on the queries you want to run."
   ]
  },
  {
   "cell_type": "markdown",
   "metadata": {},
   "source": [
    "## Create queries to ask the following three questions of the data\n",
    "\n",
    "### 1. Give me the artist, song title and song's length in the music app history that was heard during  sessionId = 338, and itemInSession  = 4\n",
    "\n",
    "\n",
    "### 2. Give me only the following: name of artist, song (sorted by itemInSession) and user (first and last name) for userid = 10, sessionid = 182\n",
    "    \n",
    "\n",
    "### 3. Give me every user name (first and last) in my music app history who listened to the song 'All Hands Against His Own'\n",
    "\n",
    "\n"
   ]
  },
  {
   "cell_type": "code",
   "execution_count": 106,
   "metadata": {},
   "outputs": [],
   "source": [
    "## TO-DO: Query 1:  Give me the artist, song title and song's length in the music app history that was heard during \\\n",
    "## sessionId = 338, and itemInSession = 4\n",
    "\n",
    "\"\"\"\n",
    "Create table for event data processing\n",
    "\n",
    "\"\"\"\n",
    "\n",
    "query = \"CREATE TABLE IF NOT EXISTS event_data_table \"\n",
    "query = query + \"\"\"(artist varchar, song_title varchar, length float, sessionid int, iteminsession int, PRIMARY KEY(sessionid, iteminsession))\"\"\"\n",
    "try:\n",
    "    session.execute(query)\n",
    "except Exception as e:\n",
    "    print(e)\n",
    "                    "
   ]
  },
  {
   "cell_type": "code",
   "execution_count": 107,
   "metadata": {},
   "outputs": [
    {
     "data": {
      "text/plain": [
       "\"\\nNote: This block for checking variable.\\nWhat checking ?\\n1. checking in file columns by pandas csv reader\\n1.1. check column index before insert table or check index in list ('line' variable)\\n2. when checking, beware existing table >> must drop !\\n3. datatype in csv data table will match above block (CREATE TABLE BLOCK)\\n\\n\""
      ]
     },
     "execution_count": 107,
     "metadata": {},
     "output_type": "execute_result"
    }
   ],
   "source": [
    "\"\"\"\n",
    "Note: This block for checking variable.\n",
    "What checking ?\n",
    "1. checking in file columns by pandas csv reader\n",
    "1.1. check column index before insert table or check index in list ('line' variable)\n",
    "2. when checking, beware existing table >> must drop !\n",
    "3. datatype in csv data table will match above block (CREATE TABLE BLOCK)\n",
    "\n",
    "\"\"\"\n",
    "\n",
    "# query = \"drop table event_data_table \"\n",
    "\n",
    "# try:\n",
    "#     session.execute(query)\n",
    "# except Exception as e:\n",
    "#     print(e)\n",
    "\n",
    "# xxx = pd.read_csv(file)\n",
    "# xxx.tail()\n",
    "\n",
    "\n",
    "# file = 'event_datafile_new.csv'\n",
    "\n",
    "# with open(file, encoding = 'utf8') as f:\n",
    "#     csvreader = csv.reader(f)\n",
    "#     next(csvreader) # skip header\n",
    "#     for line in csvreader:\n",
    "#          print(line)"
   ]
  },
  {
   "cell_type": "code",
   "execution_count": 108,
   "metadata": {},
   "outputs": [
    {
     "data": {
      "text/html": [
       "<div>\n",
       "<style scoped>\n",
       "    .dataframe tbody tr th:only-of-type {\n",
       "        vertical-align: middle;\n",
       "    }\n",
       "\n",
       "    .dataframe tbody tr th {\n",
       "        vertical-align: top;\n",
       "    }\n",
       "\n",
       "    .dataframe thead th {\n",
       "        text-align: right;\n",
       "    }\n",
       "</style>\n",
       "<table border=\"1\" class=\"dataframe\">\n",
       "  <thead>\n",
       "    <tr style=\"text-align: right;\">\n",
       "      <th></th>\n",
       "      <th>artist</th>\n",
       "      <th>firstName</th>\n",
       "      <th>gender</th>\n",
       "      <th>itemInSession</th>\n",
       "      <th>lastName</th>\n",
       "      <th>length</th>\n",
       "      <th>level</th>\n",
       "      <th>location</th>\n",
       "      <th>sessionId</th>\n",
       "      <th>song</th>\n",
       "      <th>userId</th>\n",
       "    </tr>\n",
       "  </thead>\n",
       "  <tbody>\n",
       "    <tr>\n",
       "      <th>6815</th>\n",
       "      <td>Sidewalk Prophets</td>\n",
       "      <td>Molly</td>\n",
       "      <td>F</td>\n",
       "      <td>0</td>\n",
       "      <td>Taylor</td>\n",
       "      <td>260.62322</td>\n",
       "      <td>free</td>\n",
       "      <td>St. Louis, MO-IL</td>\n",
       "      <td>464</td>\n",
       "      <td>You Love Me Anyway (Album)</td>\n",
       "      <td>35</td>\n",
       "    </tr>\n",
       "    <tr>\n",
       "      <th>6816</th>\n",
       "      <td>Rise Against</td>\n",
       "      <td>Molly</td>\n",
       "      <td>F</td>\n",
       "      <td>1</td>\n",
       "      <td>Taylor</td>\n",
       "      <td>221.17832</td>\n",
       "      <td>free</td>\n",
       "      <td>St. Louis, MO-IL</td>\n",
       "      <td>464</td>\n",
       "      <td>Torches</td>\n",
       "      <td>35</td>\n",
       "    </tr>\n",
       "    <tr>\n",
       "      <th>6817</th>\n",
       "      <td>K'Naan</td>\n",
       "      <td>Molly</td>\n",
       "      <td>F</td>\n",
       "      <td>2</td>\n",
       "      <td>Taylor</td>\n",
       "      <td>220.49914</td>\n",
       "      <td>free</td>\n",
       "      <td>St. Louis, MO-IL</td>\n",
       "      <td>464</td>\n",
       "      <td>Wavin'  Flag</td>\n",
       "      <td>35</td>\n",
       "    </tr>\n",
       "    <tr>\n",
       "      <th>6818</th>\n",
       "      <td>Patrick Jumpen</td>\n",
       "      <td>Ryan</td>\n",
       "      <td>M</td>\n",
       "      <td>0</td>\n",
       "      <td>Smith</td>\n",
       "      <td>208.87465</td>\n",
       "      <td>free</td>\n",
       "      <td>San Jose-Sunnyvale-Santa Clara, CA</td>\n",
       "      <td>480</td>\n",
       "      <td>Holiday</td>\n",
       "      <td>26</td>\n",
       "    </tr>\n",
       "    <tr>\n",
       "      <th>6819</th>\n",
       "      <td>Alicia Keys</td>\n",
       "      <td>Ryan</td>\n",
       "      <td>M</td>\n",
       "      <td>1</td>\n",
       "      <td>Smith</td>\n",
       "      <td>216.47628</td>\n",
       "      <td>free</td>\n",
       "      <td>San Jose-Sunnyvale-Santa Clara, CA</td>\n",
       "      <td>480</td>\n",
       "      <td>Empire State Of Mind (Part II) Broken Down</td>\n",
       "      <td>26</td>\n",
       "    </tr>\n",
       "  </tbody>\n",
       "</table>\n",
       "</div>"
      ],
      "text/plain": [
       "                 artist firstName gender  itemInSession lastName     length  \\\n",
       "6815  Sidewalk Prophets     Molly      F              0   Taylor  260.62322   \n",
       "6816       Rise Against     Molly      F              1   Taylor  221.17832   \n",
       "6817             K'Naan     Molly      F              2   Taylor  220.49914   \n",
       "6818     Patrick Jumpen      Ryan      M              0    Smith  208.87465   \n",
       "6819        Alicia Keys      Ryan      M              1    Smith  216.47628   \n",
       "\n",
       "     level                            location  sessionId  \\\n",
       "6815  free                    St. Louis, MO-IL        464   \n",
       "6816  free                    St. Louis, MO-IL        464   \n",
       "6817  free                    St. Louis, MO-IL        464   \n",
       "6818  free  San Jose-Sunnyvale-Santa Clara, CA        480   \n",
       "6819  free  San Jose-Sunnyvale-Santa Clara, CA        480   \n",
       "\n",
       "                                            song  userId  \n",
       "6815                  You Love Me Anyway (Album)      35  \n",
       "6816                                     Torches      35  \n",
       "6817                                Wavin'  Flag      35  \n",
       "6818                                     Holiday      26  \n",
       "6819  Empire State Of Mind (Part II) Broken Down      26  "
      ]
     },
     "execution_count": 108,
     "metadata": {},
     "output_type": "execute_result"
    }
   ],
   "source": [
    "\"\"\"\n",
    "For Check values that corect !\n",
    "\"\"\"\n",
    "\n",
    "print(line)\n",
    "\n",
    "test_data = pd.read_csv(file)\n",
    "test_data.tail()"
   ]
  },
  {
   "cell_type": "code",
   "execution_count": 109,
   "metadata": {
    "scrolled": false
   },
   "outputs": [],
   "source": [
    "# We have provided part of the code to set up the CSV file. Please complete the Apache Cassandra code below#\n",
    "\n",
    "\"\"\"\n",
    "\n",
    "Insert the data into created table with for loop and append for each row\n",
    "\n",
    "\"\"\"\n",
    "file = 'event_datafile_new.csv'\n",
    "\n",
    "with open(file, encoding = 'utf8') as f:\n",
    "    csvreader = csv.reader(f)\n",
    "    next(csvreader) # skip header\n",
    "    for line in csvreader:\n",
    "## TO-DO: Assign the INSERT statements into the `query` variable\n",
    "        query = \"insert into event_data_table (artist, song_title, length, sessionid, iteminsession)\"\n",
    "        query = query + \"values (%s, %s, %s, %s, %s)\"\n",
    "        ## TO-DO: Assign which column element should be assigned for each column in the INSERT statement.\n",
    "        ## For e.g., to INSERT artist_name and user first_name, you would change the code below to `line[0], line[1]`\n",
    "        session.execute(query, (line[0], line[9], float(line[5]), int(line[8]), int(line[3])))"
   ]
  },
  {
   "cell_type": "markdown",
   "metadata": {},
   "source": [
    "#### Do a SELECT to verify that the data have been inserted into each table"
   ]
  },
  {
   "cell_type": "code",
   "execution_count": 111,
   "metadata": {
    "scrolled": true
   },
   "outputs": [
    {
     "name": "stdout",
     "output_type": "stream",
     "text": [
      "Faithless Music Matters (Mark Knight Dub) 495.30731201171875\n"
     ]
    }
   ],
   "source": [
    "## TO-DO: Add in the SELECT statement to verify the data was entered into the table\n",
    "##Add in the SELECT statement to verify the data was entered into the table\n",
    "\n",
    "\"\"\"\n",
    "\n",
    "Select with condition (sessionid = 338 and iteminsession = 4) for get artist name, song title, song length\n",
    "\n",
    "\"\"\"\n",
    "\n",
    "#Question 1\n",
    "query = \"SELECT * from event_data_table where sessionid = 338 and iteminsession = 4\"\n",
    "try:\n",
    "    rows = session.execute(query)\n",
    "except Exception as e:\n",
    "    print(e)\n",
    "    \n",
    "for row in rows:\n",
    "    print (row.artist, row.song_title, row.length)"
   ]
  },
  {
   "cell_type": "code",
   "execution_count": 112,
   "metadata": {},
   "outputs": [
    {
     "data": {
      "text/html": [
       "<div>\n",
       "<style scoped>\n",
       "    .dataframe tbody tr th:only-of-type {\n",
       "        vertical-align: middle;\n",
       "    }\n",
       "\n",
       "    .dataframe tbody tr th {\n",
       "        vertical-align: top;\n",
       "    }\n",
       "\n",
       "    .dataframe thead th {\n",
       "        text-align: right;\n",
       "    }\n",
       "</style>\n",
       "<table border=\"1\" class=\"dataframe\">\n",
       "  <thead>\n",
       "    <tr style=\"text-align: right;\">\n",
       "      <th></th>\n",
       "      <th>artist</th>\n",
       "      <th>firstName</th>\n",
       "      <th>gender</th>\n",
       "      <th>itemInSession</th>\n",
       "      <th>lastName</th>\n",
       "      <th>length</th>\n",
       "      <th>level</th>\n",
       "      <th>location</th>\n",
       "      <th>sessionId</th>\n",
       "      <th>song</th>\n",
       "      <th>userId</th>\n",
       "    </tr>\n",
       "  </thead>\n",
       "  <tbody>\n",
       "    <tr>\n",
       "      <th>444</th>\n",
       "      <td>Faithless</td>\n",
       "      <td>Ava</td>\n",
       "      <td>F</td>\n",
       "      <td>4</td>\n",
       "      <td>Robinson</td>\n",
       "      <td>495.3073</td>\n",
       "      <td>free</td>\n",
       "      <td>New Haven-Milford, CT</td>\n",
       "      <td>338</td>\n",
       "      <td>Music Matters (Mark Knight Dub)</td>\n",
       "      <td>50</td>\n",
       "    </tr>\n",
       "  </tbody>\n",
       "</table>\n",
       "</div>"
      ],
      "text/plain": [
       "        artist firstName gender  itemInSession  lastName    length level  \\\n",
       "444  Faithless       Ava      F              4  Robinson  495.3073  free   \n",
       "\n",
       "                  location  sessionId                             song  userId  \n",
       "444  New Haven-Milford, CT        338  Music Matters (Mark Knight Dub)      50  "
      ]
     },
     "execution_count": 112,
     "metadata": {},
     "output_type": "execute_result"
    }
   ],
   "source": [
    "\"\"\"\n",
    "For Checking query (Select statement)\n",
    "\"\"\"\n",
    "\n",
    "test_data.loc[(test_data['itemInSession'] == 4) & (test_data['sessionId'] == 338)]"
   ]
  },
  {
   "cell_type": "markdown",
   "metadata": {},
   "source": [
    "### COPY AND REPEAT THE ABOVE THREE CELLS FOR EACH OF THE THREE QUESTIONS"
   ]
  },
  {
   "cell_type": "code",
   "execution_count": 113,
   "metadata": {},
   "outputs": [],
   "source": [
    "## TO-DO: Query 2: Give me only the following: name of artist, song (sorted by itemInSession) and user (first and last name)\\\n",
    "## for userid = 10, sessionid = 182\n",
    "\n",
    "\"\"\"\n",
    "Create table for log data processing\n",
    "\n",
    "\"\"\"\n",
    "\n",
    "query = \"CREATE TABLE IF NOT EXISTS log_data_table \"\n",
    "query = query + \"\"\"(artist varchar, song_title varchar, firstname varchar, lastname varchar, \n",
    "userid int, sessionid int, iteminsession int, PRIMARY KEY((userid, sessionid), iteminsession))\"\"\"\n",
    "try:\n",
    "    session.execute(query)\n",
    "except Exception as e:\n",
    "    print(e)"
   ]
  },
  {
   "cell_type": "code",
   "execution_count": 114,
   "metadata": {},
   "outputs": [],
   "source": [
    "## TO-DO: Query 3: Give me every user name (first and last) in my music app history who listened to the song 'All Hands Against His Own'\n",
    "\n",
    "\"\"\"\n",
    "\n",
    "Insert the data into created table with for loop and append for each row\n",
    "\n",
    "\"\"\"\n",
    "\n",
    "file = 'event_datafile_new.csv'\n",
    "\n",
    "with open(file, encoding = 'utf8') as f:\n",
    "    csvreader = csv.reader(f)\n",
    "    next(csvreader) # skip header\n",
    "    for line in csvreader:\n",
    "## TO-DO: Assign the INSERT statements into the `query` variable\n",
    "        query = \"insert into log_data_table (artist, song_title, firstname, lastname, userid, sessionid, iteminsession)\"\n",
    "        query = query + \"values (%s, %s, %s, %s, %s, %s, %s)\"\n",
    "        ## TO-DO: Assign which column element should be assigned for each column in the INSERT statement.\n",
    "        ## For e.g., to INSERT artist_name and user first_name, you would change the code below to `line[0], line[1]`\n",
    "        session.execute(query, (line[0], line[9], line[1], line[4], int(line[10]), int(line[8]), int(line[3])))\n",
    "                    "
   ]
  },
  {
   "cell_type": "code",
   "execution_count": 115,
   "metadata": {},
   "outputs": [
    {
     "name": "stdout",
     "output_type": "stream",
     "text": [
      "Down To The Bone Keep On Keepin' On Sylvie Cruz\n",
      "Three Drives Greece 2000 Sylvie Cruz\n",
      "Sebastien Tellier Kilometer Sylvie Cruz\n",
      "Lonnie Gordon Catch You Baby (Steve Pitron & Max Sanna Radio Edit) Sylvie Cruz\n"
     ]
    }
   ],
   "source": [
    "\"\"\"\n",
    "\n",
    "Select with condition (userid = 10 and sessionid = 182 ORDER BY iteminsession ASC) for get artist name, song title, user's firstname and user's lastname\n",
    "\n",
    "\"\"\"\n",
    "\n",
    "#Question 2\n",
    "\n",
    "query = \"SELECT artist, song_title, firstname, lastname from log_data_table where userid = 10 and sessionid = 182 ORDER BY iteminsession ASC\"\n",
    "try:\n",
    "    rows = session.execute(query)\n",
    "except Exception as e:\n",
    "    print(e)\n",
    "    \n",
    "for row in rows:\n",
    "    print (row.artist, row.song_title, row.firstname, row.lastname)"
   ]
  },
  {
   "cell_type": "code",
   "execution_count": 116,
   "metadata": {},
   "outputs": [
    {
     "data": {
      "text/html": [
       "<div>\n",
       "<style scoped>\n",
       "    .dataframe tbody tr th:only-of-type {\n",
       "        vertical-align: middle;\n",
       "    }\n",
       "\n",
       "    .dataframe tbody tr th {\n",
       "        vertical-align: top;\n",
       "    }\n",
       "\n",
       "    .dataframe thead th {\n",
       "        text-align: right;\n",
       "    }\n",
       "</style>\n",
       "<table border=\"1\" class=\"dataframe\">\n",
       "  <thead>\n",
       "    <tr style=\"text-align: right;\">\n",
       "      <th></th>\n",
       "      <th>artist</th>\n",
       "      <th>firstName</th>\n",
       "      <th>gender</th>\n",
       "      <th>itemInSession</th>\n",
       "      <th>lastName</th>\n",
       "      <th>length</th>\n",
       "      <th>level</th>\n",
       "      <th>location</th>\n",
       "      <th>sessionId</th>\n",
       "      <th>song</th>\n",
       "      <th>userId</th>\n",
       "    </tr>\n",
       "  </thead>\n",
       "  <tbody>\n",
       "    <tr>\n",
       "      <th>4704</th>\n",
       "      <td>Down To The Bone</td>\n",
       "      <td>Sylvie</td>\n",
       "      <td>F</td>\n",
       "      <td>0</td>\n",
       "      <td>Cruz</td>\n",
       "      <td>333.76608</td>\n",
       "      <td>free</td>\n",
       "      <td>Washington-Arlington-Alexandria, DC-VA-MD-WV</td>\n",
       "      <td>182</td>\n",
       "      <td>Keep On Keepin' On</td>\n",
       "      <td>10</td>\n",
       "    </tr>\n",
       "    <tr>\n",
       "      <th>4705</th>\n",
       "      <td>Three Drives</td>\n",
       "      <td>Sylvie</td>\n",
       "      <td>F</td>\n",
       "      <td>1</td>\n",
       "      <td>Cruz</td>\n",
       "      <td>411.63710</td>\n",
       "      <td>free</td>\n",
       "      <td>Washington-Arlington-Alexandria, DC-VA-MD-WV</td>\n",
       "      <td>182</td>\n",
       "      <td>Greece 2000</td>\n",
       "      <td>10</td>\n",
       "    </tr>\n",
       "    <tr>\n",
       "      <th>4706</th>\n",
       "      <td>Sebastien Tellier</td>\n",
       "      <td>Sylvie</td>\n",
       "      <td>F</td>\n",
       "      <td>2</td>\n",
       "      <td>Cruz</td>\n",
       "      <td>377.73016</td>\n",
       "      <td>free</td>\n",
       "      <td>Washington-Arlington-Alexandria, DC-VA-MD-WV</td>\n",
       "      <td>182</td>\n",
       "      <td>Kilometer</td>\n",
       "      <td>10</td>\n",
       "    </tr>\n",
       "    <tr>\n",
       "      <th>4707</th>\n",
       "      <td>Lonnie Gordon</td>\n",
       "      <td>Sylvie</td>\n",
       "      <td>F</td>\n",
       "      <td>3</td>\n",
       "      <td>Cruz</td>\n",
       "      <td>181.21098</td>\n",
       "      <td>free</td>\n",
       "      <td>Washington-Arlington-Alexandria, DC-VA-MD-WV</td>\n",
       "      <td>182</td>\n",
       "      <td>Catch You Baby (Steve Pitron &amp; Max Sanna Radio...</td>\n",
       "      <td>10</td>\n",
       "    </tr>\n",
       "  </tbody>\n",
       "</table>\n",
       "</div>"
      ],
      "text/plain": [
       "                 artist firstName gender  itemInSession lastName     length  \\\n",
       "4704   Down To The Bone    Sylvie      F              0     Cruz  333.76608   \n",
       "4705       Three Drives    Sylvie      F              1     Cruz  411.63710   \n",
       "4706  Sebastien Tellier    Sylvie      F              2     Cruz  377.73016   \n",
       "4707      Lonnie Gordon    Sylvie      F              3     Cruz  181.21098   \n",
       "\n",
       "     level                                      location  sessionId  \\\n",
       "4704  free  Washington-Arlington-Alexandria, DC-VA-MD-WV        182   \n",
       "4705  free  Washington-Arlington-Alexandria, DC-VA-MD-WV        182   \n",
       "4706  free  Washington-Arlington-Alexandria, DC-VA-MD-WV        182   \n",
       "4707  free  Washington-Arlington-Alexandria, DC-VA-MD-WV        182   \n",
       "\n",
       "                                                   song  userId  \n",
       "4704                                 Keep On Keepin' On      10  \n",
       "4705                                        Greece 2000      10  \n",
       "4706                                          Kilometer      10  \n",
       "4707  Catch You Baby (Steve Pitron & Max Sanna Radio...      10  "
      ]
     },
     "execution_count": 116,
     "metadata": {},
     "output_type": "execute_result"
    }
   ],
   "source": [
    "\"\"\"\n",
    "For Checking query (Select statement)\n",
    "\"\"\"\n",
    "\n",
    "test_data[(test_data['sessionId'] == 182) & (test_data['userId'] == 10)]"
   ]
  },
  {
   "cell_type": "code",
   "execution_count": 32,
   "metadata": {},
   "outputs": [
    {
     "data": {
      "text/plain": [
       "['Alicia Keys',\n",
       " 'Ryan',\n",
       " 'M',\n",
       " '1',\n",
       " 'Smith',\n",
       " '216.47628',\n",
       " 'free',\n",
       " 'San Jose-Sunnyvale-Santa Clara, CA',\n",
       " '480',\n",
       " 'Empire State Of Mind (Part II) Broken Down',\n",
       " '26']"
      ]
     },
     "execution_count": 32,
     "metadata": {},
     "output_type": "execute_result"
    }
   ],
   "source": [
    "\"\"\"\n",
    "For Check column index in the data\n",
    "When checked, You can create and insert column correctly.\n",
    "\"\"\"\n",
    "# with open(file, encoding = 'utf8') as f:\n",
    "#     csvreader = csv.reader(f)\n",
    "#     next(csvreader) # skip header\n",
    "#     for line in csvreader:\n",
    "#         print(line)\n",
    "\n",
    "# test_data = pd.read_csv(file)\n",
    "# test_data.tail()"
   ]
  },
  {
   "cell_type": "code",
   "execution_count": 117,
   "metadata": {},
   "outputs": [],
   "source": [
    "\n",
    "\"\"\"\n",
    "Create table for log data processing second time\n",
    "Insert the data into created table with for loop and append for each row\n",
    "\n",
    "\"\"\"\n",
    "\n",
    "query = \"CREATE TABLE IF NOT EXISTS log_data_table_2 \"\n",
    "query = query + \"\"\"(artist varchar, song_title varchar, firstname varchar, lastname varchar, \n",
    "userid int, sessionid int, iteminsession int, PRIMARY KEY(song_title, firstname, lastname))\"\"\"\n",
    "try:\n",
    "    session.execute(query)\n",
    "except Exception as e:\n",
    "    print(e)\n",
    "\n",
    "\n",
    "file = 'event_datafile_new.csv'\n",
    "\n",
    "with open(file, encoding = 'utf8') as f:\n",
    "    csvreader = csv.reader(f)\n",
    "    next(csvreader) # skip header\n",
    "    for line in csvreader:\n",
    "## TO-DO: Assign the INSERT statements into the `query` variable\n",
    "        query = \"insert into log_data_table_2 (artist, song_title, firstname, lastname, userid, sessionid, iteminsession)\"\n",
    "        query = query + \"values (%s, %s, %s, %s, %s, %s, %s)\"\n",
    "        ## TO-DO: Assign which column element should be assigned for each column in the INSERT statement.\n",
    "        ## For e.g., to INSERT artist_name and user first_name, you would change the code below to `line[0], line[1]`\n",
    "        session.execute(query, (line[0], line[9], line[1], line[4], int(line[10]), int(line[8]), int(line[3])))"
   ]
  },
  {
   "cell_type": "code",
   "execution_count": 118,
   "metadata": {},
   "outputs": [
    {
     "name": "stdout",
     "output_type": "stream",
     "text": [
      "Jacqueline Lynch\n",
      "Sara Johnson\n",
      "Tegan Levine\n"
     ]
    }
   ],
   "source": [
    "\"\"\"\n",
    "\n",
    "Select with condition (song_title = 'All Hands Against His Own') for get user's firstname and user's lastname\n",
    "\n",
    "\"\"\"\n",
    "\n",
    "#Question 3\n",
    "\n",
    "# artist, song_title, firstname, lastname, userid, sessionid, iteminsession\n",
    "\n",
    "query = \"SELECT firstname, lastname from log_data_table_2 where song_title = 'All Hands Against His Own' \"\n",
    "try:\n",
    "    rows = session.execute(query)\n",
    "except Exception as e:\n",
    "    print(e)\n",
    "    \n",
    "for row in rows:\n",
    "    print (row.firstname, row.lastname)"
   ]
  },
  {
   "cell_type": "code",
   "execution_count": 120,
   "metadata": {},
   "outputs": [
    {
     "data": {
      "text/html": [
       "<div>\n",
       "<style scoped>\n",
       "    .dataframe tbody tr th:only-of-type {\n",
       "        vertical-align: middle;\n",
       "    }\n",
       "\n",
       "    .dataframe tbody tr th {\n",
       "        vertical-align: top;\n",
       "    }\n",
       "\n",
       "    .dataframe thead th {\n",
       "        text-align: right;\n",
       "    }\n",
       "</style>\n",
       "<table border=\"1\" class=\"dataframe\">\n",
       "  <thead>\n",
       "    <tr style=\"text-align: right;\">\n",
       "      <th></th>\n",
       "      <th>artist</th>\n",
       "      <th>firstName</th>\n",
       "      <th>gender</th>\n",
       "      <th>itemInSession</th>\n",
       "      <th>lastName</th>\n",
       "      <th>length</th>\n",
       "      <th>level</th>\n",
       "      <th>location</th>\n",
       "      <th>sessionId</th>\n",
       "      <th>song</th>\n",
       "      <th>userId</th>\n",
       "    </tr>\n",
       "  </thead>\n",
       "  <tbody>\n",
       "    <tr>\n",
       "      <th>2792</th>\n",
       "      <td>The Black Keys</td>\n",
       "      <td>Tegan</td>\n",
       "      <td>F</td>\n",
       "      <td>25</td>\n",
       "      <td>Levine</td>\n",
       "      <td>196.91057</td>\n",
       "      <td>paid</td>\n",
       "      <td>Portland-South Portland, ME</td>\n",
       "      <td>611</td>\n",
       "      <td>All Hands Against His Own</td>\n",
       "      <td>80</td>\n",
       "    </tr>\n",
       "    <tr>\n",
       "      <th>5135</th>\n",
       "      <td>The Black Keys</td>\n",
       "      <td>Sara</td>\n",
       "      <td>F</td>\n",
       "      <td>31</td>\n",
       "      <td>Johnson</td>\n",
       "      <td>196.91057</td>\n",
       "      <td>paid</td>\n",
       "      <td>Winston-Salem, NC</td>\n",
       "      <td>152</td>\n",
       "      <td>All Hands Against His Own</td>\n",
       "      <td>95</td>\n",
       "    </tr>\n",
       "    <tr>\n",
       "      <th>6298</th>\n",
       "      <td>The Black Keys</td>\n",
       "      <td>Jacqueline</td>\n",
       "      <td>F</td>\n",
       "      <td>50</td>\n",
       "      <td>Lynch</td>\n",
       "      <td>196.91057</td>\n",
       "      <td>paid</td>\n",
       "      <td>Atlanta-Sandy Springs-Roswell, GA</td>\n",
       "      <td>559</td>\n",
       "      <td>All Hands Against His Own</td>\n",
       "      <td>29</td>\n",
       "    </tr>\n",
       "  </tbody>\n",
       "</table>\n",
       "</div>"
      ],
      "text/plain": [
       "              artist   firstName gender  itemInSession lastName     length  \\\n",
       "2792  The Black Keys       Tegan      F             25   Levine  196.91057   \n",
       "5135  The Black Keys        Sara      F             31  Johnson  196.91057   \n",
       "6298  The Black Keys  Jacqueline      F             50    Lynch  196.91057   \n",
       "\n",
       "     level                           location  sessionId  \\\n",
       "2792  paid        Portland-South Portland, ME        611   \n",
       "5135  paid                  Winston-Salem, NC        152   \n",
       "6298  paid  Atlanta-Sandy Springs-Roswell, GA        559   \n",
       "\n",
       "                           song  userId  \n",
       "2792  All Hands Against His Own      80  \n",
       "5135  All Hands Against His Own      95  \n",
       "6298  All Hands Against His Own      29  "
      ]
     },
     "execution_count": 120,
     "metadata": {},
     "output_type": "execute_result"
    }
   ],
   "source": [
    "\"\"\"\n",
    "For Checking query (Select statement)\n",
    "\"\"\"\n",
    "\n",
    "test_data[test_data['song'] == \"All Hands Against His Own\"]"
   ]
  },
  {
   "cell_type": "markdown",
   "metadata": {},
   "source": [
    "### Drop the tables before closing out the sessions"
   ]
  },
  {
   "cell_type": "code",
   "execution_count": 121,
   "metadata": {},
   "outputs": [],
   "source": [
    "## TO-DO: Drop the table before closing out the sessions\n",
    "query = \"drop table event_data_table \"\n",
    "\n",
    "try:\n",
    "    session.execute(query)\n",
    "except Exception as e:\n",
    "    print(e)\n"
   ]
  },
  {
   "cell_type": "code",
   "execution_count": 122,
   "metadata": {},
   "outputs": [],
   "source": [
    "query = \"drop table log_data_table \"\n",
    "\n",
    "try:\n",
    "    session.execute(query)\n",
    "except Exception as e:\n",
    "    print(e)"
   ]
  },
  {
   "cell_type": "code",
   "execution_count": 123,
   "metadata": {},
   "outputs": [],
   "source": [
    "query = \"drop table log_data_table_2 \"\n",
    "\n",
    "try:\n",
    "    session.execute(query)\n",
    "except Exception as e:\n",
    "    print(e)"
   ]
  },
  {
   "cell_type": "markdown",
   "metadata": {},
   "source": [
    "### Close the session and cluster connection¶"
   ]
  },
  {
   "cell_type": "code",
   "execution_count": 124,
   "metadata": {},
   "outputs": [],
   "source": [
    "session.shutdown()\n",
    "cluster.shutdown()"
   ]
  }
 ],
 "metadata": {
  "kernelspec": {
   "display_name": "Python 3",
   "language": "python",
   "name": "python3"
  },
  "language_info": {
   "codemirror_mode": {
    "name": "ipython",
    "version": 3
   },
   "file_extension": ".py",
   "mimetype": "text/x-python",
   "name": "python",
   "nbconvert_exporter": "python",
   "pygments_lexer": "ipython3",
   "version": "3.6.3"
  }
 },
 "nbformat": 4,
 "nbformat_minor": 2
}
